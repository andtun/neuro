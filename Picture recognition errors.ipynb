{
 "cells": [
  {
   "cell_type": "code",
   "execution_count": 1,
   "metadata": {},
   "outputs": [],
   "source": [
    "import os\n",
    "import platform \n",
    "import tensorflow as tf \n",
    "import matplotlib.pyplot as plt \n",
    "import numpy as np "
   ]
  },
  {
   "cell_type": "code",
   "execution_count": 2,
   "metadata": {},
   "outputs": [
    {
     "name": "stdout",
     "output_type": "stream",
     "text": [
      "loading\n",
      "loaded\n",
      "preparing model\n"
     ]
    }
   ],
   "source": [
    "mnist = tf.keras.datasets.mnist\n",
    "print(\"loading\")\n",
    "(x_train, y_train),(x_test, y_test) = mnist.load_data()\n",
    "print(\"loaded\")\n",
    "x_train, x_test = x_train/255.0, x_test/255.0 \n",
    "x_train=np.expand_dims(x_train, axis=3) \n",
    "x_test=np.expand_dims (x_test, axis=3)\n",
    "print(\"preparing model\")"
   ]
  },
  {
   "cell_type": "code",
   "execution_count": 9,
   "metadata": {},
   "outputs": [
    {
     "data": {
      "text/plain": [
       "5"
      ]
     },
     "execution_count": 9,
     "metadata": {},
     "output_type": "execute_result"
    }
   ],
   "source": [
    "y_train[0]"
   ]
  },
  {
   "cell_type": "code",
   "execution_count": 3,
   "metadata": {},
   "outputs": [
    {
     "name": "stdout",
     "output_type": "stream",
     "text": [
      "loading\n",
      "loaded\n"
     ]
    },
    {
     "name": "stderr",
     "output_type": "stream",
     "text": [
      "WARNING: Logging before flag parsing goes to stderr.\n",
      "W1018 15:25:06.826059 18212 deprecation.py:506] From C:\\Users\\Admin\\.conda\\envs\\neuro\\lib\\site-packages\\tensorflow\\python\\ops\\init_ops.py:1251: calling VarianceScaling.__init__ (from tensorflow.python.ops.init_ops) with dtype is deprecated and will be removed in a future version.\n",
      "Instructions for updating:\n",
      "Call initializer instance with the dtype argument instead of passing it to the constructor\n"
     ]
    },
    {
     "name": "stdout",
     "output_type": "stream",
     "text": [
      "preparing model\n",
      "compiling\n",
      "compilation end\n"
     ]
    }
   ],
   "source": [
    "plt.ioff()\n",
    "mnist = tf.keras.datasets.mnist\n",
    "print(\"loading\")\n",
    "(x_train, y_train),(x_test, y_test) = mnist.load_data()\n",
    "print(\"loaded\")\n",
    "x_train, x_test = x_train/255.0, x_test/255.0 \n",
    "x_train=np.expand_dims(x_train, axis=3) \n",
    "x_test=np.expand_dims (x_test, axis=3)\n",
    "print(\"preparing model\")\n",
    "model = tf.keras.models.Sequential([ \n",
    "tf.keras.layers.Conv2D(32, kernel_size=(3,3), input_shape=x_train[0].shape, activation='relu'), \n",
    "tf.keras.layers.Conv2D(32, kernel_size=(3,3), activation='relu'), \n",
    "tf.keras.layers.MaxPool2D(pool_size=(2,2)), \n",
    "tf.keras.layers.Dropout(0.3), \n",
    "tf.keras.layers.Conv2D(64, kernel_size=(3,3), padding='same', activation='relu'), \n",
    "tf.keras.layers.Conv2D(64, kernel_size=(3,3), padding='same', activation='relu'), \n",
    "tf.keras.layers.MaxPool2D(pool_size=(2,2)), \n",
    "tf.keras.layers.Dropout(0.2), \n",
    "tf.keras.layers.Conv2D(128, kernel_size=(3,3), padding='same', activation='relu'), \n",
    "tf.keras.layers.Dropout(0.25), \n",
    "tf.keras.layers.Flatten(), \n",
    "tf.keras.layers.Dense(128, activation=tf.nn.relu), \n",
    "tf.keras.layers.BatchNormalization(), \n",
    "tf.keras.layers.Dropout(0.25), \n",
    "tf.keras.layers.Dense(10, activation=tf.nn.softmax), \n",
    "]) \n",
    "print(\"compiling\")\n",
    "model.compile(optimizer=tf.keras.optimizers.Adam(0.0001), \n",
    "loss=tf.keras.losses.sparse_categorical_crossentropy, \n",
    "metrics=['accuracy']) \n",
    "print(\"compilation end\")"
   ]
  },
  {
   "cell_type": "code",
   "execution_count": 4,
   "metadata": {},
   "outputs": [
    {
     "name": "stdout",
     "output_type": "stream",
     "text": [
      "Epoch 1/3\n",
      "60000/60000 [==============================] - 54s 902us/sample - loss: 0.2846 - acc: 0.9125\n",
      "Epoch 2/3\n",
      "60000/60000 [==============================] - 48s 807us/sample - loss: 0.0814 - acc: 0.9751\n",
      "Epoch 3/3\n",
      "60000/60000 [==============================] - 47s 791us/sample - loss: 0.0594 - acc: 0.9823\n"
     ]
    },
    {
     "data": {
      "text/plain": [
       "<tensorflow.python.keras.callbacks.History at 0x28c22779cf8>"
      ]
     },
     "execution_count": 4,
     "metadata": {},
     "output_type": "execute_result"
    }
   ],
   "source": [
    "model.fit(x_train, y_train, epochs=3, verbose=1) "
   ]
  },
  {
   "cell_type": "code",
   "execution_count": 5,
   "metadata": {},
   "outputs": [],
   "source": [
    "model.save(\"compiled_mnist.h5\")"
   ]
  },
  {
   "cell_type": "code",
   "execution_count": 3,
   "metadata": {},
   "outputs": [
    {
     "name": "stderr",
     "output_type": "stream",
     "text": [
      "WARNING: Logging before flag parsing goes to stderr.\n",
      "W1011 17:56:43.601958  2072 deprecation.py:506] From C:\\Users\\Admin\\.conda\\envs\\neuro\\lib\\site-packages\\tensorflow\\python\\ops\\init_ops.py:97: calling GlorotUniform.__init__ (from tensorflow.python.ops.init_ops) with dtype is deprecated and will be removed in a future version.\n",
      "Instructions for updating:\n",
      "Call initializer instance with the dtype argument instead of passing it to the constructor\n",
      "W1011 17:56:43.605995  2072 deprecation.py:506] From C:\\Users\\Admin\\.conda\\envs\\neuro\\lib\\site-packages\\tensorflow\\python\\ops\\init_ops.py:1251: calling VarianceScaling.__init__ (from tensorflow.python.ops.init_ops) with dtype is deprecated and will be removed in a future version.\n",
      "Instructions for updating:\n",
      "Call initializer instance with the dtype argument instead of passing it to the constructor\n",
      "W1011 17:56:43.605995  2072 deprecation.py:506] From C:\\Users\\Admin\\.conda\\envs\\neuro\\lib\\site-packages\\tensorflow\\python\\ops\\init_ops.py:97: calling Zeros.__init__ (from tensorflow.python.ops.init_ops) with dtype is deprecated and will be removed in a future version.\n",
      "Instructions for updating:\n",
      "Call initializer instance with the dtype argument instead of passing it to the constructor\n",
      "W1011 17:56:44.170242  2072 deprecation.py:506] From C:\\Users\\Admin\\.conda\\envs\\neuro\\lib\\site-packages\\tensorflow\\python\\ops\\init_ops.py:97: calling Ones.__init__ (from tensorflow.python.ops.init_ops) with dtype is deprecated and will be removed in a future version.\n",
      "Instructions for updating:\n",
      "Call initializer instance with the dtype argument instead of passing it to the constructor\n"
     ]
    }
   ],
   "source": [
    "model = tf.keras.models.load_model(\"./models/compiled_mnist.h5\")"
   ]
  },
  {
   "cell_type": "code",
   "execution_count": 6,
   "metadata": {},
   "outputs": [],
   "source": [
    "for i in range(10):\n",
    "    os.makedirs(\"./errors/\" + str(i))"
   ]
  },
  {
   "cell_type": "code",
   "execution_count": 5,
   "metadata": {},
   "outputs": [],
   "source": [
    "mistakes = []"
   ]
  },
  {
   "cell_type": "code",
   "execution_count": 6,
   "metadata": {},
   "outputs": [],
   "source": [
    "def save_image(image, prediction, answer, index):\n",
    "    fig = plt.figure(figsize=(5, 5))\n",
    "    ax = fig.add_subplot(111)\n",
    "    description = \"Image number %d in 'test' array\\nRecognised as: %d;  Titled as:%d\" % (index, prediction, answer)\n",
    "    ax.set(title=description)\n",
    "    ax.imshow(image, cmap=\"gray_r\")\n",
    "    path = \"./errors/%d/%d.png\" % (prediction, index)\n",
    "    #plt.savefig(path)\n",
    "    \n",
    "    "
   ]
  },
  {
   "cell_type": "code",
   "execution_count": 12,
   "metadata": {},
   "outputs": [
    {
     "name": "stdout",
     "output_type": "stream",
     "text": [
      "9888 of 60000"
     ]
    }
   ],
   "source": [
    "mistakes = []\n",
    "for n, pic in enumerate(x_test):\n",
    "    prediction = model.predict(pic.reshape(1,28,28,1)).argmax()\n",
    "    answer = y_test[n]\n",
    "    if prediction != answer:\n",
    "        print(\"\\r%d of 60000\" % n, end='')\n",
    "        mistakes.append([n, calculate_loss(n)])\n",
    "        #save_image(pic[:,:,0], prediction, answer, n)"
   ]
  },
  {
   "cell_type": "code",
   "execution_count": 18,
   "metadata": {},
   "outputs": [
    {
     "data": {
      "text/plain": [
       "array([ 449, 2462, 9019, 7121,  340, 3941, 2107, 5997, 1717, 3850, 2070,\n",
       "       6505, 3727, 9770, 2189, 9634,  321, 4207, 4369, 1039, 9638,  320,\n",
       "        938, 5288, 1247, 6755, 1737, 2369, 3662,   62, 1299, 9664, 3225,\n",
       "       6651, 2921,  495, 4443, 1522, 1425, 4256,  684,  582, 4500,  965,\n",
       "       3060, 2387, 2109, 4639, 9620, 2293, 1393,  740, 4740, 4731, 2130,\n",
       "       3073, 6555, 1754, 9009, 1530, 9679, 2927, 1878, 4205, 3289, 4956,\n",
       "       1014, 9888, 1681, 1319, 4497, 3030, 4224, 2035, 2118, 4814, 2597,\n",
       "       6625, 1260, 1033,  259, 5937,  445, 2135, 1226, 9692, 1232, 3422,\n",
       "       4807, 9015, 6576, 1901, 3558, 6597, 3520,  947, 6571, 2654, 9729,\n",
       "       9642, 2896])"
      ]
     },
     "execution_count": 18,
     "metadata": {},
     "output_type": "execute_result"
    }
   ],
   "source": [
    "mistakes = sorted(mistakes, key=lambda x: x[1])\n",
    "np.array(mistakes).T[0].astype(int)"
   ]
  },
  {
   "cell_type": "code",
   "execution_count": 5,
   "metadata": {},
   "outputs": [],
   "source": [
    "p = model.predict(x_test[0].reshape(1,28,28,1))"
   ]
  },
  {
   "cell_type": "code",
   "execution_count": 8,
   "metadata": {},
   "outputs": [
    {
     "data": {
      "text/plain": [
       "<tf.Tensor 'SparseSoftmaxCrossEntropyWithLogits/SparseSoftmaxCrossEntropyWithLogits:0' shape=(1,) dtype=float32>"
      ]
     },
     "execution_count": 8,
     "metadata": {},
     "output_type": "execute_result"
    }
   ],
   "source": [
    "tf.keras.losses.sparse_categorical_crossentropy(y_test[0], tf.nn.softmax(p))"
   ]
  },
  {
   "cell_type": "code",
   "execution_count": 8,
   "metadata": {},
   "outputs": [],
   "source": [
    "def calculate_loss(ind):\n",
    "    w = model.predict(x_test[ind].reshape(1,28,28,1))\n",
    "    sess = tf.compat.v1.Session()\n",
    "    loss_tensor = tf.keras.losses.sparse_categorical_crossentropy(y_test[ind], tf.nn.softmax(w))\n",
    "    loss = loss_tensor.eval(session=sess)\n",
    "    sess.close()\n",
    "    return loss[0]"
   ]
  },
  {
   "cell_type": "code",
   "execution_count": 18,
   "metadata": {},
   "outputs": [
    {
     "data": {
      "text/plain": [
       "2.3224044"
      ]
     },
     "execution_count": 18,
     "metadata": {},
     "output_type": "execute_result"
    }
   ],
   "source": [
    "calculate_loss(1393)"
   ]
  },
  {
   "cell_type": "code",
   "execution_count": 26,
   "metadata": {},
   "outputs": [],
   "source": [
    "def show_image(image):\n",
    "    fig = plt.figure(figsize=(5, 5))\n",
    "    ax = fig.add_subplot(111)\n",
    "    ax.imshow(image.reshape(28,28), cmap=\"gray_r\")"
   ]
  },
  {
   "cell_type": "code",
   "execution_count": 28,
   "metadata": {},
   "outputs": [
    {
     "data": {
      "image/png": "[encoded data removed]",
      "text/plain": [
       "<Figure size 360x360 with 1 Axes>"
      ]
     },
     "metadata": {
      "needs_background": "light"
     },
     "output_type": "display_data"
    }
   ],
   "source": [
    "show_image(x_test[1393])"
   ]
  },
  {
   "cell_type": "code",
   "execution_count": null,
   "metadata": {},
   "outputs": [],
   "source": [
    "i = np.array(mistakes).T[0].astype(int)\n",
    "model.fit(x_test[i], y_test[i], sample_weights=2*np.ones())"
   ]
  }
 ],
 "metadata": {
  "kernelspec": {
   "display_name": "Python 3",
   "language": "python",
   "name": "python3"
  },
  "language_info": {
   "codemirror_mode": {
    "name": "ipython",
    "version": 3
   },
   "file_extension": ".py",
   "mimetype": "text/x-python",
   "name": "python",
   "nbconvert_exporter": "python",
   "pygments_lexer": "ipython3",
   "version": "3.6.9"
  }
 },
 "nbformat": 4,
 "nbformat_minor": 2
}
