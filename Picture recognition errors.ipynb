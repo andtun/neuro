{
 "cells": [
  {
   "cell_type": "code",
   "execution_count": 1,
   "metadata": {},
   "outputs": [],
   "source": [
    "import os\n",
    "import platform \n",
    "import tensorflow as tf \n",
    "import matplotlib.pyplot as plt \n",
    "import numpy as np "
   ]
  },
  {
   "cell_type": "code",
   "execution_count": 2,
   "metadata": {},
   "outputs": [
    {
     "name": "stdout",
     "output_type": "stream",
     "text": [
      "loading\n",
      "loaded\n",
      "preparing model\n"
     ]
    }
   ],
   "source": [
    "mnist = tf.keras.datasets.mnist\n",
    "print(\"loading\")\n",
    "(x_train, y_train),(x_test, y_test) = mnist.load_data()\n",
    "print(\"loaded\")\n",
    "x_train, x_test = x_train/255.0, x_test/255.0 \n",
    "x_train=np.expand_dims(x_train, axis=3) \n",
    "x_test=np.expand_dims (x_test, axis=3)\n",
    "print(\"preparing model\")"
   ]
  },
  {
   "cell_type": "code",
   "execution_count": 3,
   "metadata": {},
   "outputs": [
    {
     "data": {
      "text/plain": [
       "5"
      ]
     },
     "execution_count": 3,
     "metadata": {},
     "output_type": "execute_result"
    }
   ],
   "source": [
    "y_train[0]"
   ]
  },
  {
   "cell_type": "code",
   "execution_count": 4,
   "metadata": {},
   "outputs": [
    {
     "name": "stdout",
     "output_type": "stream",
     "text": [
      "loading\n",
      "loaded\n",
      "preparing model\n"
     ]
    },
    {
     "name": "stderr",
     "output_type": "stream",
     "text": [
      "WARNING: Logging before flag parsing goes to stderr.\n",
      "W1025 18:14:18.875933 21452 deprecation.py:506] From C:\\Users\\Admin\\.conda\\envs\\neuro\\lib\\site-packages\\tensorflow\\python\\ops\\init_ops.py:1251: calling VarianceScaling.__init__ (from tensorflow.python.ops.init_ops) with dtype is deprecated and will be removed in a future version.\n",
      "Instructions for updating:\n",
      "Call initializer instance with the dtype argument instead of passing it to the constructor\n"
     ]
    },
    {
     "name": "stdout",
     "output_type": "stream",
     "text": [
      "compiling\n",
      "compilation end\n"
     ]
    }
   ],
   "source": [
    "plt.ioff()\n",
    "mnist = tf.keras.datasets.mnist\n",
    "print(\"loading\")\n",
    "(x_train, y_train),(x_test, y_test) = mnist.load_data()\n",
    "print(\"loaded\")\n",
    "x_train, x_test = x_train/255.0, x_test/255.0 \n",
    "x_train=np.expand_dims(x_train, axis=3) \n",
    "x_test=np.expand_dims (x_test, axis=3)\n",
    "print(\"preparing model\")\n",
    "model = tf.keras.models.Sequential([ \n",
    "tf.keras.layers.Conv2D(32, kernel_size=(3,3), input_shape=x_train[0].shape, activation='relu'), \n",
    "tf.keras.layers.Conv2D(32, kernel_size=(3,3), activation='relu'), \n",
    "tf.keras.layers.MaxPool2D(pool_size=(2,2)), \n",
    "tf.keras.layers.Dropout(0.3), \n",
    "tf.keras.layers.Conv2D(64, kernel_size=(3,3), padding='same', activation='relu'), \n",
    "tf.keras.layers.Conv2D(64, kernel_size=(3,3), padding='same', activation='relu'), \n",
    "tf.keras.layers.MaxPool2D(pool_size=(2,2)), \n",
    "tf.keras.layers.Dropout(0.2), \n",
    "tf.keras.layers.Conv2D(128, kernel_size=(3,3), padding='same', activation='relu'), \n",
    "tf.keras.layers.Dropout(0.25), \n",
    "tf.keras.layers.Flatten(), \n",
    "tf.keras.layers.Dense(128, activation=tf.nn.relu), \n",
    "tf.keras.layers.BatchNormalization(), \n",
    "tf.keras.layers.Dropout(0.25), \n",
    "tf.keras.layers.Dense(10, activation=tf.nn.softmax), \n",
    "]) \n",
    "print(\"compiling\")\n",
    "model.compile(optimizer=tf.keras.optimizers.Adam(0.0001), \n",
    "loss=tf.keras.losses.sparse_categorical_crossentropy, \n",
    "metrics=['accuracy']) \n",
    "print(\"compilation end\")"
   ]
  },
  {
   "cell_type": "code",
   "execution_count": 5,
   "metadata": {},
   "outputs": [
    {
     "name": "stdout",
     "output_type": "stream",
     "text": [
      "Epoch 1/3\n",
      "60000/60000 [==============================] - 56s 932us/sample - loss: 0.3046 - acc: 0.9068\n",
      "Epoch 2/3\n",
      "60000/60000 [==============================] - 48s 796us/sample - loss: 0.0801 - acc: 0.9755\n",
      "Epoch 3/3\n",
      "60000/60000 [==============================] - 48s 800us/sample - loss: 0.0583 - acc: 0.9824\n"
     ]
    },
    {
     "data": {
      "text/plain": [
       "<tensorflow.python.keras.callbacks.History at 0x29a994d8c50>"
      ]
     },
     "execution_count": 5,
     "metadata": {},
     "output_type": "execute_result"
    }
   ],
   "source": [
    "model.fit(x_train, y_train, epochs=3, verbose=1) "
   ]
  },
  {
   "cell_type": "code",
   "execution_count": 5,
   "metadata": {},
   "outputs": [],
   "source": [
    "model.save(\"compiled_mnist.h5\")"
   ]
  },
  {
   "cell_type": "code",
   "execution_count": 5,
   "metadata": {},
   "outputs": [
    {
     "name": "stderr",
     "output_type": "stream",
     "text": [
      "W1025 18:14:26.254213 21452 deprecation.py:506] From C:\\Users\\Admin\\.conda\\envs\\neuro\\lib\\site-packages\\tensorflow\\python\\ops\\init_ops.py:97: calling GlorotUniform.__init__ (from tensorflow.python.ops.init_ops) with dtype is deprecated and will be removed in a future version.\n",
      "Instructions for updating:\n",
      "Call initializer instance with the dtype argument instead of passing it to the constructor\n",
      "W1025 18:14:26.257205 21452 deprecation.py:506] From C:\\Users\\Admin\\.conda\\envs\\neuro\\lib\\site-packages\\tensorflow\\python\\ops\\init_ops.py:97: calling Zeros.__init__ (from tensorflow.python.ops.init_ops) with dtype is deprecated and will be removed in a future version.\n",
      "Instructions for updating:\n",
      "Call initializer instance with the dtype argument instead of passing it to the constructor\n",
      "W1025 18:14:26.818847 21452 deprecation.py:506] From C:\\Users\\Admin\\.conda\\envs\\neuro\\lib\\site-packages\\tensorflow\\python\\ops\\init_ops.py:97: calling Ones.__init__ (from tensorflow.python.ops.init_ops) with dtype is deprecated and will be removed in a future version.\n",
      "Instructions for updating:\n",
      "Call initializer instance with the dtype argument instead of passing it to the constructor\n"
     ]
    }
   ],
   "source": [
    "model = tf.keras.models.load_model(\"./models/compiled_mnist.h5\")"
   ]
  },
  {
   "cell_type": "code",
   "execution_count": 10,
   "metadata": {},
   "outputs": [
    {
     "ename": "FileExistsError",
     "evalue": "[WinError 183] Невозможно создать файл, так как он уже существует: './errors/0'",
     "output_type": "error",
     "traceback": [
      "\u001b[1;31m---------------------------------------------------------------------------\u001b[0m",
      "\u001b[1;31mFileExistsError\u001b[0m                           Traceback (most recent call last)",
      "\u001b[1;32m<ipython-input-10-9f84429ef141>\u001b[0m in \u001b[0;36m<module>\u001b[1;34m\u001b[0m\n\u001b[0;32m      1\u001b[0m \u001b[1;32mfor\u001b[0m \u001b[0mi\u001b[0m \u001b[1;32min\u001b[0m \u001b[0mrange\u001b[0m\u001b[1;33m(\u001b[0m\u001b[1;36m10\u001b[0m\u001b[1;33m)\u001b[0m\u001b[1;33m:\u001b[0m\u001b[1;33m\u001b[0m\u001b[1;33m\u001b[0m\u001b[0m\n\u001b[1;32m----> 2\u001b[1;33m     \u001b[0mos\u001b[0m\u001b[1;33m.\u001b[0m\u001b[0mmakedirs\u001b[0m\u001b[1;33m(\u001b[0m\u001b[1;34m\"./errors/\"\u001b[0m \u001b[1;33m+\u001b[0m \u001b[0mstr\u001b[0m\u001b[1;33m(\u001b[0m\u001b[0mi\u001b[0m\u001b[1;33m)\u001b[0m\u001b[1;33m)\u001b[0m\u001b[1;33m\u001b[0m\u001b[1;33m\u001b[0m\u001b[0m\n\u001b[0m",
      "\u001b[1;32m~\\.conda\\envs\\neuro\\lib\\os.py\u001b[0m in \u001b[0;36mmakedirs\u001b[1;34m(name, mode, exist_ok)\u001b[0m\n\u001b[0;32m    218\u001b[0m             \u001b[1;32mreturn\u001b[0m\u001b[1;33m\u001b[0m\u001b[1;33m\u001b[0m\u001b[0m\n\u001b[0;32m    219\u001b[0m     \u001b[1;32mtry\u001b[0m\u001b[1;33m:\u001b[0m\u001b[1;33m\u001b[0m\u001b[1;33m\u001b[0m\u001b[0m\n\u001b[1;32m--> 220\u001b[1;33m         \u001b[0mmkdir\u001b[0m\u001b[1;33m(\u001b[0m\u001b[0mname\u001b[0m\u001b[1;33m,\u001b[0m \u001b[0mmode\u001b[0m\u001b[1;33m)\u001b[0m\u001b[1;33m\u001b[0m\u001b[1;33m\u001b[0m\u001b[0m\n\u001b[0m\u001b[0;32m    221\u001b[0m     \u001b[1;32mexcept\u001b[0m \u001b[0mOSError\u001b[0m\u001b[1;33m:\u001b[0m\u001b[1;33m\u001b[0m\u001b[1;33m\u001b[0m\u001b[0m\n\u001b[0;32m    222\u001b[0m         \u001b[1;31m# Cannot rely on checking for EEXIST, since the operating system\u001b[0m\u001b[1;33m\u001b[0m\u001b[1;33m\u001b[0m\u001b[1;33m\u001b[0m\u001b[0m\n",
      "\u001b[1;31mFileExistsError\u001b[0m: [WinError 183] Невозможно создать файл, так как он уже существует: './errors/0'"
     ]
    }
   ],
   "source": [
    "for i in range(10):\n",
    "    os.makedirs(\"./errors/\" + str(i))"
   ]
  },
  {
   "cell_type": "code",
   "execution_count": 9,
   "metadata": {},
   "outputs": [],
   "source": [
    "def calculate_loss(ind, sess):\n",
    "    w = model.predict(x_test[ind].reshape(1,28,28,1))\n",
    "    loss_tensor = tf.keras.losses.sparse_categorical_crossentropy(y_test[ind], tf.nn.softmax(w))\n",
    "    loss = loss_tensor.eval(session=sess)\n",
    "    return loss[0]"
   ]
  },
  {
   "cell_type": "code",
   "execution_count": 10,
   "metadata": {},
   "outputs": [],
   "source": [
    "def save_image(image, prediction, answer, index):\n",
    "    fig = plt.figure(figsize=(5, 5))\n",
    "    ax = fig.add_subplot(111)\n",
    "    description = \"Image number %d in 'test' array\\nRecognised as: %d;  Titled as:%d\" % (index, prediction, answer)\n",
    "    ax.set(title=description)\n",
    "    ax.imshow(image, cmap=\"gray_r\")\n",
    "    path = \"./errors/%d/%d.png\" % (prediction, index)\n",
    "    plt.savefig(path)\n",
    "    \n",
    "    "
   ]
  },
  {
   "cell_type": "code",
   "execution_count": 12,
   "metadata": {},
   "outputs": [
    {
     "name": "stdout",
     "output_type": "stream",
     "text": [
      "4860 of 60000Finished!\n"
     ]
    }
   ],
   "source": [
    "mistakes = []\n",
    "sess = tf.compat.v1.Session()\n",
    "for n, pic in enumerate(x_test[:5000]):\n",
    "    prediction = model.predict(pic.reshape(1,28,28,1)).argmax()\n",
    "    answer = y_test[n]\n",
    "    if prediction != answer:\n",
    "        print(\"\\r%d of 60000\" % n, end='')\n",
    "        mistakes.append([n, calculate_loss(n, sess)])\n",
    "        save_image(pic[:,:,0], prediction, answer, n)\n",
    "sess.close()\n",
    "print(\"Finished!\")"
   ]
  },
  {
   "cell_type": "code",
   "execution_count": 18,
   "metadata": {},
   "outputs": [],
   "source": [
    "#mistakes = sorted(mistakes, key=lambda x: x[1])\n",
    "mistakes_indexes = np.array(mistakes).T[0].astype(int)"
   ]
  },
  {
   "cell_type": "code",
   "execution_count": 32,
   "metadata": {},
   "outputs": [
    {
     "name": "stdout",
     "output_type": "stream",
     "text": [
      "10000/10000 [==============================] - 3s 258us/sample - loss: 0.7128 - acc: 0.7608\n",
      "10000/10000 [==============================] - 3s 273us/sample - loss: 0.1563 - acc: 0.9438\n"
     ]
    }
   ],
   "source": [
    "MISTAKE_WEIGHT = 3\n",
    "\n",
    "old_loss, old_acc = model.evaluate(x_test, y_test)\n",
    "model.fit(x_test[mistakes_indexes], \n",
    "          y_test[mistakes_indexes], \n",
    "          verbose=0,\n",
    "          sample_weight=MISTAKE_WEIGHT*np.ones(mistakes_indexes.shape), \n",
    "          epochs=3)\n",
    "new_loss, new_acc = model.evaluate(x_test, y_test)\n"
   ]
  },
  {
   "cell_type": "code",
   "execution_count": 27,
   "metadata": {},
   "outputs": [
    {
     "data": {
      "text/plain": [
       "0.027507356682699175"
      ]
     },
     "execution_count": 27,
     "metadata": {},
     "output_type": "execute_result"
    }
   ],
   "source": []
  },
  {
   "cell_type": "code",
   "execution_count": null,
   "metadata": {},
   "outputs": [],
   "source": [
    "def show_image(image):\n",
    "    fig = plt.figure(figsize=(5, 5))\n",
    "    ax = fig.add_subplot(111)\n",
    "    ax.imshow(image.reshape(28,28), cmap=\"gray_r\")"
   ]
  }
 ],
 "metadata": {
  "kernelspec": {
   "display_name": "Python 3",
   "language": "python",
   "name": "python3"
  },
  "language_info": {
   "codemirror_mode": {
    "name": "ipython",
    "version": 3
   },
   "file_extension": ".py",
   "mimetype": "text/x-python",
   "name": "python",
   "nbconvert_exporter": "python",
   "pygments_lexer": "ipython3",
   "version": "3.6.9"
  }
 },
 "nbformat": 4,
 "nbformat_minor": 2
}
