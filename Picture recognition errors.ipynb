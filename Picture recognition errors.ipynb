{
 "cells": [
  {
   "cell_type": "code",
   "execution_count": 1,
   "metadata": {},
   "outputs": [],
   "source": [
    "import os\n",
    "import platform \n",
    "import tensorflow as tf \n",
    "import matplotlib.pyplot as plt \n",
    "import numpy as np "
   ]
  },
  {
   "cell_type": "code",
   "execution_count": 2,
   "metadata": {},
   "outputs": [
    {
     "name": "stdout",
     "output_type": "stream",
     "text": [
      "loading\n",
      "loaded\n"
     ]
    },
    {
     "name": "stderr",
     "output_type": "stream",
     "text": [
      "WARNING: Logging before flag parsing goes to stderr.\n",
      "W1010 04:17:05.781298 28876 deprecation.py:506] From C:\\Users\\Admin\\.conda\\envs\\neuro\\lib\\site-packages\\tensorflow\\python\\ops\\init_ops.py:1251: calling VarianceScaling.__init__ (from tensorflow.python.ops.init_ops) with dtype is deprecated and will be removed in a future version.\n",
      "Instructions for updating:\n",
      "Call initializer instance with the dtype argument instead of passing it to the constructor\n"
     ]
    },
    {
     "name": "stdout",
     "output_type": "stream",
     "text": [
      "preparing model\n",
      "compiling\n",
      "compilation end\n"
     ]
    }
   ],
   "source": [
    "plt.ioff()\n",
    "mnist = tf.keras.datasets.mnist\n",
    "print(\"loading\")\n",
    "(x_train, y_train),(x_test, y_test) = mnist.load_data()\n",
    "print(\"loaded\")\n",
    "x_train, x_test = x_train/255.0, x_test/255.0 \n",
    "x_train=np.expand_dims(x_train, axis=3) \n",
    "x_test=np.expand_dims (x_test, axis=3)\n",
    "print(\"preparing model\")\n",
    "model = tf.keras.models.Sequential([ \n",
    "tf.keras.layers.Conv2D(32, kernel_size=(3,3), input_shape=x_train[0].shape, activation='relu'), \n",
    "tf.keras.layers.Conv2D(32, kernel_size=(3,3), activation='relu'), \n",
    "tf.keras.layers.MaxPool2D(pool_size=(2,2)), \n",
    "tf.keras.layers.Dropout(0.3), \n",
    "tf.keras.layers.Conv2D(64, kernel_size=(3,3), padding='same', activation='relu'), \n",
    "tf.keras.layers.Conv2D(64, kernel_size=(3,3), padding='same', activation='relu'), \n",
    "tf.keras.layers.MaxPool2D(pool_size=(2,2)), \n",
    "tf.keras.layers.Dropout(0.2), \n",
    "tf.keras.layers.Conv2D(128, kernel_size=(3,3), padding='same', activation='relu'), \n",
    "tf.keras.layers.Dropout(0.25), \n",
    "tf.keras.layers.Flatten(), \n",
    "tf.keras.layers.Dense(128, activation=tf.nn.relu), \n",
    "tf.keras.layers.BatchNormalization(), \n",
    "tf.keras.layers.Dropout(0.25), \n",
    "tf.keras.layers.Dense(10, activation=tf.nn.softmax), \n",
    "]) \n",
    "print(\"compiling\")\n",
    "model.compile(optimizer=tf.keras.optimizers.Adam(0.0001), \n",
    "loss=tf.keras.losses.sparse_categorical_crossentropy, \n",
    "metrics=['accuracy']) \n",
    "print(\"compilation end\")"
   ]
  },
  {
   "cell_type": "code",
   "execution_count": 4,
   "metadata": {},
   "outputs": [
    {
     "name": "stdout",
     "output_type": "stream",
     "text": [
      "Epoch 1/3\n",
      "60000/60000 [==============================] - 54s 893us/sample - loss: 0.3238 - acc: 0.8999\n",
      "Epoch 2/3\n",
      "60000/60000 [==============================] - 48s 798us/sample - loss: 0.0833 - acc: 0.9752\n",
      "Epoch 3/3\n",
      "60000/60000 [==============================] - 47s 782us/sample - loss: 0.0608 - acc: 0.9819s - loss: 0.0608 - a\n"
     ]
    },
    {
     "data": {
      "text/plain": [
       "<tensorflow.python.keras.callbacks.History at 0x22f458ec518>"
      ]
     },
     "execution_count": 4,
     "metadata": {},
     "output_type": "execute_result"
    }
   ],
   "source": [
    "model.fit(x_train, y_train, epochs=3, verbose=1) "
   ]
  },
  {
   "cell_type": "code",
   "execution_count": 5,
   "metadata": {},
   "outputs": [],
   "source": [
    "model.save(\"compiled_mnist.h5\")"
   ]
  },
  {
   "cell_type": "code",
   "execution_count": 6,
   "metadata": {},
   "outputs": [],
   "source": [
    "for i in range(10):\n",
    "    os.makedirs(\"./errors/\" + str(i))"
   ]
  },
  {
   "cell_type": "code",
   "execution_count": 21,
   "metadata": {},
   "outputs": [],
   "source": [
    "def save_image(image, prediction, answer, index):\n",
    "    fig = plt.figure(figsize=(5, 5))\n",
    "    ax = fig.add_subplot(111)\n",
    "    description = \"Image number %d in 'test' array\\nRecognised as: %d;  Titled as:%d\" % (index, prediction, answer)\n",
    "    ax.set(title=description)\n",
    "    ax.imshow(image, cmap=\"gray_r\")\n",
    "    path = \"./errors/%d/%d.png\" % (prediction, index)\n",
    "    plt.savefig(path)"
   ]
  },
  {
   "cell_type": "code",
   "execution_count": 22,
   "metadata": {},
   "outputs": [
    {
     "name": "stderr",
     "output_type": "stream",
     "text": [
      "C:\\Users\\Admin\\.conda\\envs\\neuro\\lib\\site-packages\\ipykernel_launcher.py:2: RuntimeWarning: More than 20 figures have been opened. Figures created through the pyplot interface (`matplotlib.pyplot.figure`) are retained until explicitly closed and may consume too much memory. (To control this warning, see the rcParam `figure.max_open_warning`).\n",
      "  \n"
     ]
    }
   ],
   "source": [
    "for n, pic in enumerate(x_test):\n",
    "    prediction = model.predict(pic.reshape(1,28,28,1)).argmax()\n",
    "    answer = y_test[n]\n",
    "    if prediction != answer:\n",
    "        save_image(pic[:,:,0], prediction, answer, n)"
   ]
  },
  {
   "cell_type": "code",
   "execution_count": null,
   "metadata": {},
   "outputs": [],
   "source": []
  }
 ],
 "metadata": {
  "kernelspec": {
   "display_name": "Python 3",
   "language": "python",
   "name": "python3"
  },
  "language_info": {
   "codemirror_mode": {
    "name": "ipython",
    "version": 3
   },
   "file_extension": ".py",
   "mimetype": "text/x-python",
   "name": "python",
   "nbconvert_exporter": "python",
   "pygments_lexer": "ipython3",
   "version": "3.6.9"
  }
 },
 "nbformat": 4,
 "nbformat_minor": 2
}
