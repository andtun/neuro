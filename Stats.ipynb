{
 "cells": [
  {
   "cell_type": "code",
   "execution_count": 11,
   "metadata": {},
   "outputs": [],
   "source": [
    "import matplotlib.pyplot as plt\n",
    "import numpy as np\n",
    "import tensorflow as tf\n",
    "from tensorflow.keras import datasets\n",
    "from tensorflow.keras.layers import Dense, BatchNormalization, Flatten"
   ]
  },
  {
   "cell_type": "code",
   "execution_count": 12,
   "metadata": {},
   "outputs": [],
   "source": [
    "mnist = datasets.mnist\n",
    "(x_train, y_train), (x_test, y_test) = mnist.load_data()"
   ]
  },
  {
   "cell_type": "code",
   "execution_count": 13,
   "metadata": {},
   "outputs": [],
   "source": [
    "model=None\n",
    "model = tf.keras.models.Sequential([\n",
    "    Flatten(input_shape=x_train[0].shape),\n",
    "    BatchNormalization(),\n",
    "    Dense(1000, activation=tf.nn.relu),\n",
    "    Dense(500, activation=tf.nn.relu),\n",
    "    Dense(10, activation=tf.nn.softmax)\n",
    "])"
   ]
  },
  {
   "cell_type": "code",
   "execution_count": 14,
   "metadata": {},
   "outputs": [],
   "source": [
    "model.compile(optimizer=tf.keras.optimizers.Adam(0.001),\n",
    "                  loss=tf.keras.losses.sparse_categorical_crossentropy,\n",
    "                  metrics=['accuracy'])"
   ]
  },
  {
   "cell_type": "code",
   "execution_count": 15,
   "metadata": {},
   "outputs": [
    {
     "name": "stdout",
     "output_type": "stream",
     "text": [
      "Train on 25 samples, validate on 100 samples\n",
      "Epoch 1/100\n",
      "25/25 [==============================] - 2s 87ms/sample - loss: 2.3112 - acc: 0.1600 - val_loss: 14.7398 - val_acc: 0.3300\n",
      "Epoch 2/100\n",
      "25/25 [==============================] - 0s 2ms/sample - loss: 0.4251 - acc: 1.0000 - val_loss: 13.4793 - val_acc: 0.3800\n",
      "Epoch 3/100\n",
      "25/25 [==============================] - 0s 1ms/sample - loss: 0.0836 - acc: 1.0000 - val_loss: 13.7110 - val_acc: 0.3900\n",
      "Epoch 4/100\n",
      "25/25 [==============================] - 0s 1ms/sample - loss: 0.0207 - acc: 1.0000 - val_loss: 14.1971 - val_acc: 0.4100\n",
      "Epoch 5/100\n",
      "25/25 [==============================] - 0s 2ms/sample - loss: 0.0059 - acc: 1.0000 - val_loss: 14.7464 - val_acc: 0.4300\n",
      "Epoch 6/100\n",
      "25/25 [==============================] - 0s 2ms/sample - loss: 0.0020 - acc: 1.0000 - val_loss: 15.3457 - val_acc: 0.4400\n",
      "Epoch 7/100\n",
      "25/25 [==============================] - 0s 1ms/sample - loss: 7.7344e-04 - acc: 1.0000 - val_loss: 15.9793 - val_acc: 0.4400\n",
      "Epoch 8/100\n",
      "25/25 [==============================] - 0s 2ms/sample - loss: 3.4390e-04 - acc: 1.0000 - val_loss: 16.6199 - val_acc: 0.4500\n",
      "Epoch 9/100\n",
      "25/25 [==============================] - 0s 1ms/sample - loss: 1.6971e-04 - acc: 1.0000 - val_loss: 17.2722 - val_acc: 0.4500\n",
      "Epoch 10/100\n",
      "25/25 [==============================] - 0s 2ms/sample - loss: 9.1027e-05 - acc: 1.0000 - val_loss: 17.9146 - val_acc: 0.4500\n",
      "Epoch 11/100\n",
      "25/25 [==============================] - 0s 1ms/sample - loss: 5.2271e-05 - acc: 1.0000 - val_loss: 18.5308 - val_acc: 0.4500\n",
      "Epoch 12/100\n",
      "25/25 [==============================] - 0s 1ms/sample - loss: 3.1875e-05 - acc: 1.0000 - val_loss: 19.1222 - val_acc: 0.4600\n",
      "Epoch 13/100\n",
      "25/25 [==============================] - 0s 1ms/sample - loss: 2.0537e-05 - acc: 1.0000 - val_loss: 19.6916 - val_acc: 0.4600\n",
      "Epoch 14/100\n",
      "25/25 [==============================] - 0s 2ms/sample - loss: 1.3852e-05 - acc: 1.0000 - val_loss: 20.2351 - val_acc: 0.4500\n",
      "Epoch 15/100\n",
      "25/25 [==============================] - 0s 1ms/sample - loss: 9.6987e-06 - acc: 1.0000 - val_loss: 20.7584 - val_acc: 0.4500\n",
      "Epoch 16/100\n",
      "25/25 [==============================] - 0s 2ms/sample - loss: 7.0714e-06 - acc: 1.0000 - val_loss: 21.2576 - val_acc: 0.4500\n",
      "Epoch 17/100\n",
      "25/25 [==============================] - 0s 1ms/sample - loss: 5.2928e-06 - acc: 1.0000 - val_loss: 21.7371 - val_acc: 0.4400\n",
      "Epoch 18/100\n",
      "25/25 [==============================] - 0s 2ms/sample - loss: 4.0960e-06 - acc: 1.0000 - val_loss: 22.2005 - val_acc: 0.4300\n",
      "Epoch 19/100\n",
      "25/25 [==============================] - 0s 2ms/sample - loss: 3.2663e-06 - acc: 1.0000 - val_loss: 22.6488 - val_acc: 0.4300\n",
      "Epoch 20/100\n",
      "25/25 [==============================] - 0s 1ms/sample - loss: 2.6512e-06 - acc: 1.0000 - val_loss: 23.0873 - val_acc: 0.4200\n",
      "Epoch 21/100\n",
      "25/25 [==============================] - 0s 2ms/sample - loss: 2.1887e-06 - acc: 1.0000 - val_loss: 23.5193 - val_acc: 0.4100\n",
      "Epoch 22/100\n",
      "25/25 [==============================] - 0s 2ms/sample - loss: 1.8549e-06 - acc: 1.0000 - val_loss: 23.9416 - val_acc: 0.4100\n",
      "Epoch 23/100\n",
      "25/25 [==============================] - 0s 1ms/sample - loss: 1.5783e-06 - acc: 1.0000 - val_loss: 24.3540 - val_acc: 0.4100\n",
      "Epoch 24/100\n",
      "25/25 [==============================] - 0s 1ms/sample - loss: 1.3685e-06 - acc: 1.0000 - val_loss: 24.7527 - val_acc: 0.4100\n",
      "Epoch 25/100\n",
      "25/25 [==============================] - 0s 2ms/sample - loss: 1.1921e-06 - acc: 1.0000 - val_loss: 25.1386 - val_acc: 0.4100\n",
      "Epoch 26/100\n",
      "25/25 [==============================] - 0s 1ms/sample - loss: 1.0729e-06 - acc: 1.0000 - val_loss: 25.5163 - val_acc: 0.4100\n",
      "Epoch 27/100\n",
      "25/25 [==============================] - 0s 1ms/sample - loss: 9.7275e-07 - acc: 1.0000 - val_loss: 25.8899 - val_acc: 0.4100\n",
      "Epoch 28/100\n",
      "25/25 [==============================] - 0s 2ms/sample - loss: 8.7738e-07 - acc: 1.0000 - val_loss: 26.2555 - val_acc: 0.4200\n",
      "Epoch 29/100\n",
      "25/25 [==============================] - 0s 1ms/sample - loss: 8.0585e-07 - acc: 1.0000 - val_loss: 26.6120 - val_acc: 0.4300\n",
      "Epoch 30/100\n",
      "25/25 [==============================] - 0s 1ms/sample - loss: 7.4386e-07 - acc: 1.0000 - val_loss: 26.9595 - val_acc: 0.4300\n",
      "Epoch 31/100\n",
      "25/25 [==============================] - 0s 1ms/sample - loss: 6.9141e-07 - acc: 1.0000 - val_loss: 27.2980 - val_acc: 0.4300\n",
      "Epoch 32/100\n",
      "25/25 [==============================] - 0s 2ms/sample - loss: 6.2942e-07 - acc: 1.0000 - val_loss: 27.6293 - val_acc: 0.4300\n",
      "Epoch 33/100\n",
      "25/25 [==============================] - 0s 2ms/sample - loss: 5.9605e-07 - acc: 1.0000 - val_loss: 27.9542 - val_acc: 0.4300\n",
      "Epoch 34/100\n",
      "25/25 [==============================] - 0s 2ms/sample - loss: 5.6744e-07 - acc: 1.0000 - val_loss: 28.2729 - val_acc: 0.4400\n",
      "Epoch 35/100\n",
      "25/25 [==============================] - 0s 2ms/sample - loss: 5.4359e-07 - acc: 1.0000 - val_loss: 28.5859 - val_acc: 0.4400\n",
      "Epoch 36/100\n",
      "25/25 [==============================] - 0s 2ms/sample - loss: 5.2452e-07 - acc: 1.0000 - val_loss: 28.8940 - val_acc: 0.4400\n",
      "Epoch 37/100\n",
      "25/25 [==============================] - 0s 2ms/sample - loss: 4.9591e-07 - acc: 1.0000 - val_loss: 29.1966 - val_acc: 0.4400\n",
      "Epoch 38/100\n",
      "25/25 [==============================] - 0s 2ms/sample - loss: 4.7684e-07 - acc: 1.0000 - val_loss: 29.4937 - val_acc: 0.4400\n",
      "Epoch 39/100\n",
      "25/25 [==============================] - 0s 2ms/sample - loss: 4.6730e-07 - acc: 1.0000 - val_loss: 29.7857 - val_acc: 0.4400\n",
      "Epoch 40/100\n",
      "25/25 [==============================] - 0s 2ms/sample - loss: 4.4823e-07 - acc: 1.0000 - val_loss: 30.0728 - val_acc: 0.4400\n",
      "Epoch 41/100\n",
      "25/25 [==============================] - 0s 2ms/sample - loss: 4.3869e-07 - acc: 1.0000 - val_loss: 30.3559 - val_acc: 0.4400\n",
      "Epoch 42/100\n",
      "25/25 [==============================] - 0s 2ms/sample - loss: 4.2438e-07 - acc: 1.0000 - val_loss: 30.6350 - val_acc: 0.4400\n",
      "Epoch 43/100\n",
      "25/25 [==============================] - 0s 2ms/sample - loss: 4.1485e-07 - acc: 1.0000 - val_loss: 30.9109 - val_acc: 0.4500\n",
      "Epoch 44/100\n",
      "25/25 [==============================] - 0s 2ms/sample - loss: 4.0531e-07 - acc: 1.0000 - val_loss: 31.1838 - val_acc: 0.4500\n",
      "Epoch 45/100\n",
      "25/25 [==============================] - 0s 2ms/sample - loss: 3.9577e-07 - acc: 1.0000 - val_loss: 31.4546 - val_acc: 0.4500\n",
      "Epoch 46/100\n",
      "25/25 [==============================] - 0s 2ms/sample - loss: 3.8624e-07 - acc: 1.0000 - val_loss: 31.7236 - val_acc: 0.4500\n",
      "Epoch 47/100\n",
      "25/25 [==============================] - 0s 2ms/sample - loss: 3.8624e-07 - acc: 1.0000 - val_loss: 31.9906 - val_acc: 0.4500\n",
      "Epoch 48/100\n",
      "25/25 [==============================] - 0s 2ms/sample - loss: 3.7670e-07 - acc: 1.0000 - val_loss: 32.2552 - val_acc: 0.4500\n",
      "Epoch 49/100\n",
      "25/25 [==============================] - 0s 2ms/sample - loss: 3.7193e-07 - acc: 1.0000 - val_loss: 32.5177 - val_acc: 0.4600\n",
      "Epoch 50/100\n",
      "25/25 [==============================] - 0s 2ms/sample - loss: 3.7193e-07 - acc: 1.0000 - val_loss: 32.7785 - val_acc: 0.4600\n",
      "Epoch 51/100\n",
      "25/25 [==============================] - 0s 2ms/sample - loss: 3.6716e-07 - acc: 1.0000 - val_loss: 33.0377 - val_acc: 0.4600\n",
      "Epoch 52/100\n",
      "25/25 [==============================] - 0s 3ms/sample - loss: 3.6240e-07 - acc: 1.0000 - val_loss: 33.2953 - val_acc: 0.4600\n",
      "Epoch 53/100\n",
      "25/25 [==============================] - 0s 2ms/sample - loss: 3.4332e-07 - acc: 1.0000 - val_loss: 33.5518 - val_acc: 0.4600\n",
      "Epoch 54/100\n",
      "25/25 [==============================] - 0s 2ms/sample - loss: 3.4332e-07 - acc: 1.0000 - val_loss: 33.8079 - val_acc: 0.4600\n",
      "Epoch 55/100\n",
      "25/25 [==============================] - 0s 2ms/sample - loss: 3.4332e-07 - acc: 1.0000 - val_loss: 34.0642 - val_acc: 0.4600\n",
      "Epoch 56/100\n",
      "25/25 [==============================] - 0s 2ms/sample - loss: 3.3855e-07 - acc: 1.0000 - val_loss: 34.3206 - val_acc: 0.4500\n",
      "Epoch 57/100\n",
      "25/25 [==============================] - 0s 2ms/sample - loss: 3.3379e-07 - acc: 1.0000 - val_loss: 34.5768 - val_acc: 0.4500\n",
      "Epoch 58/100\n",
      "25/25 [==============================] - 0s 1ms/sample - loss: 3.3379e-07 - acc: 1.0000 - val_loss: 34.8330 - val_acc: 0.4500\n",
      "Epoch 59/100\n",
      "25/25 [==============================] - 0s 1ms/sample - loss: 3.2902e-07 - acc: 1.0000 - val_loss: 35.0889 - val_acc: 0.4500\n"
     ]
    },
    {
     "name": "stdout",
     "output_type": "stream",
     "text": [
      "Epoch 60/100\n",
      "25/25 [==============================] - 0s 1ms/sample - loss: 3.2902e-07 - acc: 1.0000 - val_loss: 35.3446 - val_acc: 0.4500\n",
      "Epoch 61/100\n",
      "25/25 [==============================] - 0s 2ms/sample - loss: 3.2902e-07 - acc: 1.0000 - val_loss: 35.6005 - val_acc: 0.4500\n",
      "Epoch 62/100\n",
      "25/25 [==============================] - 0s 1ms/sample - loss: 3.2902e-07 - acc: 1.0000 - val_loss: 35.8561 - val_acc: 0.4500\n",
      "Epoch 63/100\n",
      "25/25 [==============================] - 0s 1ms/sample - loss: 3.2902e-07 - acc: 1.0000 - val_loss: 36.1120 - val_acc: 0.4500\n",
      "Epoch 64/100\n",
      "25/25 [==============================] - 0s 1ms/sample - loss: 3.2902e-07 - acc: 1.0000 - val_loss: 36.3680 - val_acc: 0.4500\n",
      "Epoch 65/100\n",
      "25/25 [==============================] - 0s 2ms/sample - loss: 3.2902e-07 - acc: 1.0000 - val_loss: 36.6246 - val_acc: 0.4600\n",
      "Epoch 66/100\n",
      "25/25 [==============================] - 0s 2ms/sample - loss: 3.2425e-07 - acc: 1.0000 - val_loss: 36.8819 - val_acc: 0.4600\n",
      "Epoch 67/100\n",
      "25/25 [==============================] - 0s 2ms/sample - loss: 3.2425e-07 - acc: 1.0000 - val_loss: 37.1393 - val_acc: 0.4500\n",
      "Epoch 68/100\n",
      "25/25 [==============================] - 0s 1ms/sample - loss: 3.1948e-07 - acc: 1.0000 - val_loss: 37.3972 - val_acc: 0.4500\n",
      "Epoch 69/100\n",
      "25/25 [==============================] - 0s 2ms/sample - loss: 3.1948e-07 - acc: 1.0000 - val_loss: 37.6553 - val_acc: 0.4500\n",
      "Epoch 70/100\n",
      "25/25 [==============================] - 0s 2ms/sample - loss: 3.1948e-07 - acc: 1.0000 - val_loss: 37.9136 - val_acc: 0.4400\n",
      "Epoch 71/100\n",
      "25/25 [==============================] - 0s 2ms/sample - loss: 3.1948e-07 - acc: 1.0000 - val_loss: 38.1719 - val_acc: 0.4400\n",
      "Epoch 72/100\n",
      "25/25 [==============================] - 0s 1ms/sample - loss: 3.1948e-07 - acc: 1.0000 - val_loss: 38.4302 - val_acc: 0.4400\n",
      "Epoch 73/100\n",
      "25/25 [==============================] - 0s 2ms/sample - loss: 3.1471e-07 - acc: 1.0000 - val_loss: 38.6886 - val_acc: 0.4400\n",
      "Epoch 74/100\n",
      "25/25 [==============================] - 0s 2ms/sample - loss: 3.1471e-07 - acc: 1.0000 - val_loss: 38.9475 - val_acc: 0.4400\n",
      "Epoch 75/100\n",
      "25/25 [==============================] - 0s 1ms/sample - loss: 3.1471e-07 - acc: 1.0000 - val_loss: 39.2065 - val_acc: 0.4400\n",
      "Epoch 76/100\n",
      "25/25 [==============================] - 0s 2ms/sample - loss: 3.1471e-07 - acc: 1.0000 - val_loss: 39.4657 - val_acc: 0.4400\n",
      "Epoch 77/100\n",
      "25/25 [==============================] - 0s 2ms/sample - loss: 3.1471e-07 - acc: 1.0000 - val_loss: 39.7247 - val_acc: 0.4500\n",
      "Epoch 78/100\n",
      "25/25 [==============================] - 0s 2ms/sample - loss: 3.1471e-07 - acc: 1.0000 - val_loss: 39.9842 - val_acc: 0.4500\n",
      "Epoch 79/100\n",
      "25/25 [==============================] - 0s 2ms/sample - loss: 3.1471e-07 - acc: 1.0000 - val_loss: 40.2443 - val_acc: 0.4500\n",
      "Epoch 80/100\n",
      "25/25 [==============================] - 0s 3ms/sample - loss: 3.1471e-07 - acc: 1.0000 - val_loss: 40.5051 - val_acc: 0.4500\n",
      "Epoch 81/100\n",
      "25/25 [==============================] - 0s 2ms/sample - loss: 3.1471e-07 - acc: 1.0000 - val_loss: 40.7663 - val_acc: 0.4500\n",
      "Epoch 82/100\n",
      "25/25 [==============================] - 0s 3ms/sample - loss: 3.1471e-07 - acc: 1.0000 - val_loss: 41.0278 - val_acc: 0.4500\n",
      "Epoch 83/100\n",
      "25/25 [==============================] - 0s 2ms/sample - loss: 3.1471e-07 - acc: 1.0000 - val_loss: 41.2897 - val_acc: 0.4500\n",
      "Epoch 84/100\n",
      "25/25 [==============================] - 0s 2ms/sample - loss: 3.1471e-07 - acc: 1.0000 - val_loss: 41.5521 - val_acc: 0.4500\n",
      "Epoch 85/100\n",
      "25/25 [==============================] - 0s 2ms/sample - loss: 3.1471e-07 - acc: 1.0000 - val_loss: 41.8149 - val_acc: 0.4500\n",
      "Epoch 86/100\n",
      "25/25 [==============================] - 0s 2ms/sample - loss: 3.1471e-07 - acc: 1.0000 - val_loss: 42.0781 - val_acc: 0.4500\n",
      "Epoch 87/100\n",
      "25/25 [==============================] - 0s 2ms/sample - loss: 3.1471e-07 - acc: 1.0000 - val_loss: 42.3419 - val_acc: 0.4500\n",
      "Epoch 88/100\n",
      "25/25 [==============================] - 0s 2ms/sample - loss: 3.1471e-07 - acc: 1.0000 - val_loss: 42.6063 - val_acc: 0.4500\n",
      "Epoch 89/100\n",
      "25/25 [==============================] - 0s 2ms/sample - loss: 3.1471e-07 - acc: 1.0000 - val_loss: 42.8711 - val_acc: 0.4400\n",
      "Epoch 90/100\n",
      "25/25 [==============================] - 0s 2ms/sample - loss: 3.1471e-07 - acc: 1.0000 - val_loss: 43.1366 - val_acc: 0.4400\n",
      "Epoch 91/100\n",
      "25/25 [==============================] - 0s 2ms/sample - loss: 3.1471e-07 - acc: 1.0000 - val_loss: 43.4030 - val_acc: 0.4400\n",
      "Epoch 92/100\n",
      "25/25 [==============================] - 0s 2ms/sample - loss: 3.0994e-07 - acc: 1.0000 - val_loss: 43.6702 - val_acc: 0.4400\n",
      "Epoch 93/100\n",
      "25/25 [==============================] - 0s 2ms/sample - loss: 3.0994e-07 - acc: 1.0000 - val_loss: 43.9382 - val_acc: 0.4300\n",
      "Epoch 94/100\n",
      "25/25 [==============================] - 0s 2ms/sample - loss: 3.0994e-07 - acc: 1.0000 - val_loss: 44.2072 - val_acc: 0.4300\n",
      "Epoch 95/100\n",
      "25/25 [==============================] - 0s 3ms/sample - loss: 3.0994e-07 - acc: 1.0000 - val_loss: 44.4770 - val_acc: 0.4300\n",
      "Epoch 96/100\n",
      "25/25 [==============================] - 0s 2ms/sample - loss: 3.0994e-07 - acc: 1.0000 - val_loss: 44.7477 - val_acc: 0.4300\n",
      "Epoch 97/100\n",
      "25/25 [==============================] - 0s 2ms/sample - loss: 3.0994e-07 - acc: 1.0000 - val_loss: 45.0193 - val_acc: 0.4300\n",
      "Epoch 98/100\n",
      "25/25 [==============================] - 0s 2ms/sample - loss: 3.0994e-07 - acc: 1.0000 - val_loss: 45.2918 - val_acc: 0.4300\n",
      "Epoch 99/100\n",
      "25/25 [==============================] - 0s 2ms/sample - loss: 3.0994e-07 - acc: 1.0000 - val_loss: 45.5653 - val_acc: 0.4300\n",
      "Epoch 100/100\n",
      "25/25 [==============================] - 0s 2ms/sample - loss: 3.0518e-07 - acc: 1.0000 - val_loss: 45.8399 - val_acc: 0.4300\n"
     ]
    },
    {
     "data": {
      "text/plain": [
       "<tensorflow.python.keras.callbacks.History at 0x2b8e23aefd0>"
      ]
     },
     "execution_count": 15,
     "metadata": {},
     "output_type": "execute_result"
    }
   ],
   "source": [
    "N_ELEM = 25\n",
    "N_EPOCHS = 100\n",
    "VALIDATION_SIZE = 100\n",
    "model.fit(\n",
    "    x_train[:N_ELEM],\n",
    "    y_train[:N_ELEM],\n",
    "    epochs=N_EPOCHS,\n",
    "    validation_data=(x_test[:VALIDATION_SIZE], y_test[:VALIDATION_SIZE]))"
   ]
  },
  {
   "cell_type": "code",
   "execution_count": 16,
   "metadata": {},
   "outputs": [],
   "source": [
    "EXPERIMENT_NUMBER = 12"
   ]
  },
  {
   "cell_type": "code",
   "execution_count": 19,
   "metadata": {},
   "outputs": [
    {
     "data": {
      "image/png": "[encoded data removed]",
      "text/plain": [
       "<Figure size 720x432 with 2 Axes>"
      ]
     },
     "metadata": {
      "needs_background": "light"
     },
     "output_type": "display_data"
    },
    {
     "data": {
      "image/png": "[encoded data removed]",
      "text/plain": [
       "<Figure size 720x432 with 2 Axes>"
      ]
     },
     "metadata": {
      "needs_background": "light"
     },
     "output_type": "display_data"
    }
   ],
   "source": [
    "titles = {\n",
    "    'loss': [\"Зависимость функции потерь от номера эпохи\", \"Значение ф-ции потерь\"],\n",
    "    'acc': [\"Зависимость точности от номера эпохи\", \"Значение точности классификации\"],\n",
    "    #'val_loss': [\"Зависимость функции потерь (на test) от номера эпохи\", \"Значение ф-ции потерь\"],\n",
    "    #\"val_acc\": [\"Зависимость точности (на test) от номера эпохи\", \"Значение точности классификации\"]\n",
    "}\n",
    "\n",
    "for p in ('loss', 'acc'):\n",
    "    fig = plt.figure(figsize=(10,6))\n",
    "    ax1 = fig.add_subplot(111)\n",
    "    ax2 = ax1.twinx()\n",
    "    ax1.set(title=titles[p][0], ylabel=titles[p][1], xlabel=\"Номер эпохи\")\n",
    "    ax1.grid()\n",
    "    line1, = ax1.plot(model.history.epoch, model.history.history[p])\n",
    "    line2, = ax2.plot(model.history.epoch, model.history.history['val_'+p], color='r')\n",
    "    #plt.savefig(p+'%d.png' % EXPERIMENT_NUMBER)\n",
    "    plt.legend((line1, line2), ('train', 'test'))\n",
    "    plt.show()\n",
    "    \n",
    "model.save('overtrained_%d.h5' % EXPERIMENT_NUMBER)"
   ]
  },
  {
   "cell_type": "code",
   "execution_count": 9,
   "metadata": {},
   "outputs": [],
   "source": [
    "model = tf.keras.models.load_model('overtrained_11.h5')"
   ]
  },
  {
   "cell_type": "code",
   "execution_count": null,
   "metadata": {},
   "outputs": [],
   "source": []
  }
 ],
 "metadata": {
  "kernelspec": {
   "display_name": "Python 3",
   "language": "python",
   "name": "python3"
  },
  "language_info": {
   "codemirror_mode": {
    "name": "ipython",
    "version": 3
   },
   "file_extension": ".py",
   "mimetype": "text/x-python",
   "name": "python",
   "nbconvert_exporter": "python",
   "pygments_lexer": "ipython3",
   "version": "3.6.9"
  }
 },
 "nbformat": 4,
 "nbformat_minor": 2
}
