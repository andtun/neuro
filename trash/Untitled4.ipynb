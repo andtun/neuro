{
 "cells": [
  {
   "cell_type": "code",
   "execution_count": 10,
   "metadata": {},
   "outputs": [],
   "source": [
    "import random\n",
    "import imageio\n",
    "import numpy as np\n",
    "from PIL import Image\n",
    "import tensorflow as tf\n",
    "import matplotlib.pyplot as plt\n",
    "from tensorflow.keras.layers import Dense, Input, Dropout\n",
    "from tensorflow.keras.models import Sequential, Model"
   ]
  },
  {
   "cell_type": "code",
   "execution_count": 11,
   "metadata": {},
   "outputs": [],
   "source": [
    "def make_trainable(net, val, lr=0.001):\n",
    "    net.model.trainable = val\n",
    "    for l in net.model.layers:\n",
    "        l.trainable = val\n",
    "    net.cmpile(lr)\n",
    "    \n",
    "def define_gan(generator, discriminator):\n",
    "    # make weights in the discriminator not trainable\n",
    "    discriminator.trainable = False\n",
    "    # connect them\n",
    "    model = Sequential()\n",
    "    # add generator\n",
    "    model.add(generator)\n",
    "    # add the discriminator\n",
    "    model.add(discriminator)\n",
    "    # при замене оптимизатора всё слетает ???\n",
    "    model.compile(loss='binary_crossentropy', optimizer='adam')\n",
    "    return model"
   ]
  },
  {
   "cell_type": "code",
   "execution_count": 12,
   "metadata": {},
   "outputs": [],
   "source": [
    "# To generate data\n",
    "class Dataset():\n",
    "    x = None\n",
    "    y = None\n",
    "    W = None\n",
    "    \n",
    "    def __init__(self):\n",
    "        return\n",
    "    \n",
    "    def load_data(self, data_range=4000):\n",
    "        dots_x = []\n",
    "        for i in range(data_range):\n",
    "            x = random.gauss(0, data_range)\n",
    "            dots_x.append((abs(x), x**2)) # square\n",
    "            dots_x.append((abs(x), random.gauss(x**2, data_range**2.25))) # less than square\n",
    "            #dots_x.append((x**r, x**(2*r*(1+random.gauss(0.5, 0.25)/20)))) # more than square\n",
    "        dots_x = np.array(dots_x)\n",
    "        #dots_y = np.array([random.uniform(0.75, 1.2) if x[0]**2 == x[1] else random.uniform(0, 0.3) for x in dots_x])\n",
    "        dots_y = np.array([0 if x[0]**2 == x[1] else 1 for x in dots_x])\n",
    "        self.x, self.y = dots_x, dots_y\n",
    "        return dots_x, dots_y\n",
    "    \n",
    "    def load_weights(self, default_weight=0.12):\n",
    "        W = self.y.copy().astype(float)\n",
    "        W[W == 0] = 0.12\n",
    "        self.W = W\n",
    "        return W\n",
    "        \n",
    "    @staticmethod\n",
    "    def load_random(n_dim=5, n_samples=16):\n",
    "        V = np.random.normal(size=(n_samples, n_dim))\n",
    "        return V\n",
    "    "
   ]
  },
  {
   "cell_type": "code",
   "execution_count": 25,
   "metadata": {},
   "outputs": [],
   "source": [
    "# To plot images\n",
    "class Plot:\n",
    "    name = \"\"\n",
    "    images = []\n",
    "    threshold = 0.0\n",
    "    \n",
    "    def __init__(self, name, threshold=0.6):\n",
    "        self.name = name\n",
    "        self.threshold = threshold\n",
    "        self.images = []\n",
    "    \n",
    "    @staticmethod\n",
    "    def parabola_plot(ax, xrange):\n",
    "        x = np.linspace(xrange, 1)\n",
    "        y = x*x\n",
    "        plt.plot(x, y)\n",
    "    \n",
    "    @staticmethod\n",
    "    def dots_plot(ax, dots_x, dots_y, color):\n",
    "        ax.scatter(dots_x, dots_y, color=color, alpha=0.15)\n",
    "        plt.plot()\n",
    "    \n",
    "    def picture(self, dots, predictions, title='', alpha=0.3):\n",
    "        predictions = predictions.reshape(predictions.shape[0])\n",
    "        dots_x = dots.T[0]\n",
    "        fig = plt.figure()\n",
    "        ax1 = fig.add_subplot(111)\n",
    "        ax1.set(title=title)\n",
    "        #ax2 = ax1.twinx()\n",
    "        plt.grid(axis='both')\n",
    "        xrange = (dots_x.min()*1.1, dots_x.max()*1.1)\n",
    "        self.parabola_plot(ax1, xrange)\n",
    "        ax1.scatter(dots.T[0], dots.T[1], c=predictions, cmap='YlOrRd', alpha=alpha)\n",
    "        \n",
    "    def add_to_gif(self, dots_x, predictions, title='', alpha=0.3):\n",
    "        self.picture(dots_x, predictions, title=title, alpha=alpha)\n",
    "        plt.savefig(self.name+'.png')\n",
    "        plt.close()\n",
    "        image = Image.open(self.name+'.png')\n",
    "        ar = np.asarray(image)\n",
    "        self.images.append(ar)\n",
    "        \n",
    "    def save_gif(self):\n",
    "        kargs = { 'duration': 0.2 }\n",
    "        imageio.mimsave(self.name+'.gif', self.images, None, **kargs)\n",
    "        "
   ]
  },
  {
   "cell_type": "code",
   "execution_count": 14,
   "metadata": {},
   "outputs": [],
   "source": [
    "# Classes for neural networks\n",
    "\n",
    "# Generator\n",
    "class Gen:\n",
    "    model = None\n",
    "    \n",
    "    def __init__(self):\n",
    "        model = Sequential([Dense(15, activation='relu', kernel_initializer='he_uniform', input_dim=5),\n",
    "                            Dense(2, activation='linear')\n",
    "        ])\n",
    "        self.model = model\n",
    "        \n",
    "    def predict(self, dots_x):\n",
    "        return self.model.predict(dots_x)\n",
    "    \n",
    "    def cmpile(self):\n",
    "        return\n",
    "    \n",
    "# Discriminator\n",
    "class Dsc:\n",
    "    model = None\n",
    "    \n",
    "    def __init__(self):\n",
    "        model = Sequential([Dense(25, activation='relu', kernel_initializer='he_uniform', input_dim=2),\n",
    "                            Dense(1, activation='sigmoid')\n",
    "        ])\n",
    "        self.model = model\n",
    "    \n",
    "    def cmpile(self, lr=0.0001):\n",
    "        self.model.compile(loss='binary_crossentropy',\n",
    "                           optimizer=tf.keras.optimizers.Adam(lr),\n",
    "                           metrics=['accuracy'])\n",
    "        \n",
    "    def fit(self, dots_x, dots_y, weights=None, epochs=1, validation_split=0.15, plot=False):\n",
    "        if plot:\n",
    "            img = Plot('discriminator_fit')\n",
    "            for i in range(epochs):\n",
    "                print(\"Epoch %d out of %d\" % (i, epochs))\n",
    "                self.model.fit(dots_x, \n",
    "                               dots_y, \n",
    "                               epochs=5, \n",
    "                               sample_weight=weights)\n",
    "                img.add_to_gif(dots_x, self.model.predict(dots_x), title='Epoch %d' % i)\n",
    "            img.save_gif()                        \n",
    "        else:\n",
    "            self.model.fit(dots_x, \n",
    "                           dots_y, \n",
    "                           epochs=epochs, \n",
    "                           sample_weight=weights, \n",
    "                           validation_split=validation_split)\n",
    "    \n",
    "    def save(self, name='discriminator'):\n",
    "        self.model.save(name+'.h5')\n",
    "        \n",
    "# !Raw class, doesn't work   \n",
    "class Gan:\n",
    "    gen = None\n",
    "    dsc = None\n",
    "    model = None\n",
    "    \n",
    "    def __init__(self, gen, dsc, n_dim=5):\n",
    "        make_trainable(dsc, False)\n",
    "        self.gen = gen\n",
    "        self.dsc = dsc\n",
    "        # connect them\n",
    "        model = Sequential()\n",
    "        # add generator\n",
    "        model.add(gen.model)\n",
    "        # add the discriminator\n",
    "        model.add(dsc.model)\n",
    "        self.model = model\n",
    "    \n",
    "    # This method doesn't work\n",
    "    # Presumably because of some optimizer issue\n",
    "    def cmpile(self, lr=0.001):\n",
    "        self.model.compile(loss='binary_crossentropy',\n",
    "                           optimizer=tf.keras.optimizers.Adam(lr),\n",
    "                           metrics = ['accuracy'])\n",
    "        \n",
    "    def fit(self, dots_x, dots_y, epochs=1):\n",
    "        self.model.fit(dots_x, dots_y, epochs=epochs)\n",
    "        \n",
    "class Dummy:\n",
    "    model = None\n",
    "    \n",
    "    def __init__(self, model):\n",
    "        self.model = model\n",
    "        \n",
    "    def cmpile(self, lr=0.0001):\n",
    "        self.model.compile(loss='binary_crossentropy',\n",
    "                           optimizer=tf.keras.optimizers.Adam(lr),\n",
    "                           metrics=['accuracy'])\n",
    "    \n",
    "    # todo: remove hardcode\n",
    "    def fit(self, dots_x, dots_y, weights=None, epochs=1, validation_split=0.15, plot=False):\n",
    "        if plot:\n",
    "            img = Plot('discriminator_fit')\n",
    "            for i in range(epochs//25):\n",
    "                print(\"Epoch %d out of %d\" % (i, epochs))\n",
    "                self.model.fit(dots_x, \n",
    "                               dots_y, \n",
    "                               epochs=25, \n",
    "                               sample_weight=weights)\n",
    "                img.add_to_gif(dots_x, self.model.predict(dots_x), title='Epoch %d' % i*25)\n",
    "            img.save_gif()                        \n",
    "        else:\n",
    "            self.model.fit(dots_x, \n",
    "                           dots_y, \n",
    "                           epochs=epochs, \n",
    "                           sample_weight=weights, \n",
    "                           validation_split=validation_split)\n",
    "    \n",
    "    def save(self, name='discriminator'):\n",
    "        self.model.save(name+'.h5')\n",
    "        "
   ]
  },
  {
   "cell_type": "code",
   "execution_count": 15,
   "metadata": {},
   "outputs": [],
   "source": [
    "# Generating data\n",
    "Data = Dataset()\n",
    "Data.load_data()\n",
    "weights = Data.load_weights()\n",
    "\n",
    "# Defining neural networks\n",
    "generator = Gen()\n",
    "discriminator = Dsc()\n",
    "gan = define_gan(generator.model, discriminator.model)"
   ]
  },
  {
   "cell_type": "code",
   "execution_count": 254,
   "metadata": {},
   "outputs": [
    {
     "ename": "NameError",
     "evalue": "name 'copy' is not defined",
     "output_type": "error",
     "traceback": [
      "\u001b[1;31m---------------------------------------------------------------------------\u001b[0m",
      "\u001b[1;31mNameError\u001b[0m                                 Traceback (most recent call last)",
      "\u001b[1;32m<ipython-input-254-aa6569664925>\u001b[0m in \u001b[0;36m<module>\u001b[1;34m\u001b[0m\n\u001b[0;32m      1\u001b[0m \u001b[1;31m#discriminator = tf.keras.models.load_model('discriminator.h5')\u001b[0m\u001b[1;33m\u001b[0m\u001b[1;33m\u001b[0m\u001b[1;33m\u001b[0m\u001b[0m\n\u001b[1;32m----> 2\u001b[1;33m \u001b[0mloaded_discr\u001b[0m \u001b[1;33m=\u001b[0m \u001b[0mcopy\u001b[0m\u001b[1;33m(\u001b[0m\u001b[0mdiscriminator\u001b[0m\u001b[1;33m)\u001b[0m\u001b[1;33m\u001b[0m\u001b[1;33m\u001b[0m\u001b[0m\n\u001b[0m",
      "\u001b[1;31mNameError\u001b[0m: name 'copy' is not defined"
     ]
    }
   ],
   "source": [
    "discriminator = tf.keras.models.load_model('discriminator.h5')"
   ]
  },
  {
   "cell_type": "code",
   "execution_count": 28,
   "metadata": {},
   "outputs": [],
   "source": [
    "def fit_discriminator(Data, epochs, lr=0.001):\n",
    "    make_trainable(discriminator, True, lr=lr)\n",
    "    discriminator.fit(Data.x, Data.y, epochs=epochs, plot=True)"
   ]
  },
  {
   "cell_type": "code",
   "execution_count": 257,
   "metadata": {},
   "outputs": [
    {
     "data": {
      "text/plain": [
       "True"
      ]
     },
     "execution_count": 257,
     "metadata": {},
     "output_type": "execute_result"
    }
   ],
   "source": [
    "discriminator2.model.trainable"
   ]
  },
  {
   "cell_type": "code",
   "execution_count": 30,
   "metadata": {},
   "outputs": [],
   "source": [
    "# Training GAN\n",
    "def fit_gan(Data, epochs):\n",
    "    p = Plot('GAN_results')\n",
    "\n",
    "    for i in range(epochs):\n",
    "        V = Data.load_random(n_samples=1024)\n",
    "        print(\"Epoch %d\" % i)\n",
    "        generated = generator.predict(V)\n",
    "        if i % 50 == 0:\n",
    "            p.add_to_gif(generated, np.ones(V.shape[0]), title='Epoch %d' % i, alpha=1)\n",
    "        make_trainable(discriminator, False)\n",
    "        print(\"Fitting GAN\")\n",
    "        gan.fit(V, np.ones(V.shape[0]))\n",
    "        make_trainable(discriminator, True)\n",
    "        print(\"Fitting discriminator\")\n",
    "        discriminator.fit(generated, np.zeros(V.shape[0]), weights=2*np.ones(V.shape[0]), validation_split=None)\n",
    "    p.save_gif()"
   ]
  },
  {
   "cell_type": "code",
   "execution_count": 251,
   "metadata": {},
   "outputs": [
    {
     "data": {
      "text/plain": [
       "<matplotlib.collections.PathCollection at 0x1f7d4072c50>"
      ]
     },
     "execution_count": 251,
     "metadata": {},
     "output_type": "execute_result"
    },
    {
     "data": {
      "image/png": "[encoded data removed]",
      "text/plain": [
       "<Figure size 432x288 with 1 Axes>"
      ]
     },
     "metadata": {
      "needs_background": "light"
     },
     "output_type": "display_data"
    }
   ],
   "source": [
    "t = Plot('temporary')\n",
    "plt.scatter(Data.x.T[0], Data.x.T[1], c=discriminator.predict(Data.x).reshape(8000,), cmap='YlOrRd', alpha=0.3)"
   ]
  },
  {
   "cell_type": "code",
   "execution_count": 199,
   "metadata": {},
   "outputs": [
    {
     "data": {
      "text/plain": [
       "array([[1.]], dtype=float32)"
      ]
     },
     "execution_count": 199,
     "metadata": {},
     "output_type": "execute_result"
    }
   ],
   "source": [
    "discriminator.model.predict(np.array([[5, 0]]))"
   ]
  },
  {
   "cell_type": "code",
   "execution_count": null,
   "metadata": {},
   "outputs": [],
   "source": [
    "# Generating data\n",
    "Data = Dataset()\n",
    "Data.load_data()\n",
    "weights = Data.load_weights()\n",
    "\n",
    "# Defining neural networks\n",
    "generator = Gen()\n",
    "discriminator = Dsc()\n",
    "gan = define_gan(generator.model, discriminator.model)\n",
    "\n",
    "# Fitting\n",
    "fit_discriminator(Data, 2000)\n",
    "fit_gan(Data, 20000)"
   ]
  }
 ],
 "metadata": {
  "kernelspec": {
   "display_name": "Python 3",
   "language": "python",
   "name": "python3"
  },
  "language_info": {
   "codemirror_mode": {
    "name": "ipython",
    "version": 3
   },
   "file_extension": ".py",
   "mimetype": "text/x-python",
   "name": "python",
   "nbconvert_exporter": "python",
   "pygments_lexer": "ipython3",
   "version": "3.6.9"
  }
 },
 "nbformat": 4,
 "nbformat_minor": 2
}
